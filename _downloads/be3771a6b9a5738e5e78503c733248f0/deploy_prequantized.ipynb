{
 "cells": [
  {
   "cell_type": "markdown",
   "metadata": {},
   "source": [
    "(sphx_glr_how_to_deploy_models_deploy_prequantized.py)=\n",
    "# 利用 TVM 部署框架预量化模型\n",
    "\n",
    "**Author**: [Masahiro Masuda](https://github.com/masahi)\n",
    "\n",
    "这是关于通过深度学习框架将量化模型加载到 TVM 的教程。预量化模型导入是我们在 TVM 中提供的量化支持之一。关于 TVM 中量化的更多细节可以在[这里](https://discuss.tvm.apache.org/t/quantization-story/3920)找到。\n",
    "\n",
    "在这里，我们将演示如何加载和运行由 PyTorch、MXNet 和 TFLite 量化的模型。一旦加载，我们就可以在 TVM 支持的任何硬件上运行编译过的量化模型。\n",
    "\n",
    "首先,必要的导入："
   ]
  },
  {
   "cell_type": "code",
   "execution_count": 2,
   "metadata": {},
   "outputs": [
    {
     "name": "stdout",
     "output_type": "stream",
     "text": [
      "/media/pc/data/4tb/lxw/study/tvm/python /media/pc/data/4tb/lxw/study/tvm/vta/python\n"
     ]
    },
    {
     "ename": "RuntimeError",
     "evalue": "Cannot find libraries: ['libtvm.so', 'libtvm_runtime.so']\nList of candidates:\n/home/pc/xinet/anaconda3/envs/tvm-test/bin/libtvm.so\n/home/pc/xinet/anaconda3/envs/tvm-test/bin/libtvm.so\n/home/pc/xinet/anaconda3/condabin/libtvm.so\n/home/pc/.vscode-server/bin/e18005f0f1b33c29e81d732535d8c0e47cafb0b5/bin/remote-cli/libtvm.so\n/home/pc/.local/bin/libtvm.so\n/usr/local/sbin/libtvm.so\n/usr/local/bin/libtvm.so\n/usr/sbin/libtvm.so\n/usr/bin/libtvm.so\n/usr/sbin/libtvm.so\n/usr/bin/libtvm.so\n/usr/games/libtvm.so\n/usr/local/games/libtvm.so\n/snap/bin/libtvm.so\n/media/pc/data/4tb/lxw/study/tvm/python/tvm/libtvm.so\n/media/pc/data/4tb/lxw/study/tvm/build/libtvm.so\n/media/pc/data/4tb/lxw/study/libtvm.so\n/home/pc/xinet/anaconda3/envs/tvm-test/bin/libtvm_runtime.so\n/home/pc/xinet/anaconda3/envs/tvm-test/bin/libtvm_runtime.so\n/home/pc/xinet/anaconda3/condabin/libtvm_runtime.so\n/home/pc/.vscode-server/bin/e18005f0f1b33c29e81d732535d8c0e47cafb0b5/bin/remote-cli/libtvm_runtime.so\n/home/pc/.local/bin/libtvm_runtime.so\n/usr/local/sbin/libtvm_runtime.so\n/usr/local/bin/libtvm_runtime.so\n/usr/sbin/libtvm_runtime.so\n/usr/bin/libtvm_runtime.so\n/usr/sbin/libtvm_runtime.so\n/usr/bin/libtvm_runtime.so\n/usr/games/libtvm_runtime.so\n/usr/local/games/libtvm_runtime.so\n/snap/bin/libtvm_runtime.so\n/media/pc/data/4tb/lxw/study/tvm/python/tvm/libtvm_runtime.so\n/media/pc/data/4tb/lxw/study/tvm/build/libtvm_runtime.so\n/media/pc/data/4tb/lxw/study/libtvm_runtime.so",
     "output_type": "error",
     "traceback": [
      "\u001b[0;31m---------------------------------------------------------------------------\u001b[0m",
      "\u001b[0;31mRuntimeError\u001b[0m                              Traceback (most recent call last)",
      "\u001b[1;32m/media/pc/data/4tb/lxw/study/tvm/_toc/how_to/deploy_models/deploy_prequantized.ipynb Cell 2'\u001b[0m in \u001b[0;36m<cell line: 1>\u001b[0;34m()\u001b[0m\n\u001b[0;32m----> <a href='vscode-notebook-cell://ssh-remote%2B10.16.11.3/media/pc/data/4tb/lxw/study/tvm/_toc/how_to/deploy_models/deploy_prequantized.ipynb#ch0000001vscode-remote?line=0'>1</a>\u001b[0m \u001b[39mfrom\u001b[39;00m \u001b[39mtvm_env\u001b[39;00m \u001b[39mimport\u001b[39;00m tvm\n",
      "File \u001b[0;32m/media/pc/data/4tb/lxw/study/tvm/_toc/how_to/deploy_models/tvm_env.py:16\u001b[0m, in \u001b[0;36m<module>\u001b[0;34m\u001b[0m\n\u001b[1;32m     <a href='file:///media/pc/data/4tb/lxw/study/tvm/_toc/how_to/deploy_models/tvm_env.py?line=12'>13</a>\u001b[0m     \u001b[39mif\u001b[39;00m path \u001b[39mnot\u001b[39;00m \u001b[39min\u001b[39;00m sys\u001b[39m.\u001b[39mpath:\n\u001b[1;32m     <a href='file:///media/pc/data/4tb/lxw/study/tvm/_toc/how_to/deploy_models/tvm_env.py?line=13'>14</a>\u001b[0m         sys\u001b[39m.\u001b[39mpath\u001b[39m.\u001b[39mextend([path])\n\u001b[0;32m---> <a href='file:///media/pc/data/4tb/lxw/study/tvm/_toc/how_to/deploy_models/tvm_env.py?line=15'>16</a>\u001b[0m tvm \u001b[39m=\u001b[39m import_module(\u001b[39m'\u001b[39;49m\u001b[39mtvm\u001b[39;49m\u001b[39m'\u001b[39;49m)\n\u001b[1;32m     <a href='file:///media/pc/data/4tb/lxw/study/tvm/_toc/how_to/deploy_models/tvm_env.py?line=16'>17</a>\u001b[0m vta \u001b[39m=\u001b[39m import_module(\u001b[39m'\u001b[39m\u001b[39mvta\u001b[39m\u001b[39m'\u001b[39m)\n",
      "File \u001b[0;32m~/xinet/anaconda3/envs/tvm-test/lib/python3.10/importlib/__init__.py:126\u001b[0m, in \u001b[0;36mimport_module\u001b[0;34m(name, package)\u001b[0m\n\u001b[1;32m    <a href='file:///home/pc/xinet/anaconda3/envs/tvm-test/lib/python3.10/importlib/__init__.py?line=123'>124</a>\u001b[0m             \u001b[39mbreak\u001b[39;00m\n\u001b[1;32m    <a href='file:///home/pc/xinet/anaconda3/envs/tvm-test/lib/python3.10/importlib/__init__.py?line=124'>125</a>\u001b[0m         level \u001b[39m+\u001b[39m\u001b[39m=\u001b[39m \u001b[39m1\u001b[39m\n\u001b[0;32m--> <a href='file:///home/pc/xinet/anaconda3/envs/tvm-test/lib/python3.10/importlib/__init__.py?line=125'>126</a>\u001b[0m \u001b[39mreturn\u001b[39;00m _bootstrap\u001b[39m.\u001b[39;49m_gcd_import(name[level:], package, level)\n",
      "File \u001b[0;32m/media/pc/data/4tb/lxw/study/tvm/python/tvm/__init__.py:26\u001b[0m, in \u001b[0;36m<module>\u001b[0;34m\u001b[0m\n\u001b[1;32m     <a href='file:///media/pc/data/4tb/lxw/study/tvm/python/tvm/__init__.py?line=21'>22</a>\u001b[0m \u001b[39mimport\u001b[39;00m \u001b[39mtraceback\u001b[39;00m\n\u001b[1;32m     <a href='file:///media/pc/data/4tb/lxw/study/tvm/python/tvm/__init__.py?line=23'>24</a>\u001b[0m \u001b[39m# top-level alias\u001b[39;00m\n\u001b[1;32m     <a href='file:///media/pc/data/4tb/lxw/study/tvm/python/tvm/__init__.py?line=24'>25</a>\u001b[0m \u001b[39m# tvm._ffi\u001b[39;00m\n\u001b[0;32m---> <a href='file:///media/pc/data/4tb/lxw/study/tvm/python/tvm/__init__.py?line=25'>26</a>\u001b[0m \u001b[39mfrom\u001b[39;00m \u001b[39m.\u001b[39;00m\u001b[39m_ffi\u001b[39;00m\u001b[39m.\u001b[39;00m\u001b[39mbase\u001b[39;00m \u001b[39mimport\u001b[39;00m TVMError, __version__, _RUNTIME_ONLY\n\u001b[1;32m     <a href='file:///media/pc/data/4tb/lxw/study/tvm/python/tvm/__init__.py?line=27'>28</a>\u001b[0m \u001b[39mfrom\u001b[39;00m \u001b[39m.\u001b[39;00m\u001b[39m_ffi\u001b[39;00m\u001b[39m.\u001b[39;00m\u001b[39mruntime_ctypes\u001b[39;00m \u001b[39mimport\u001b[39;00m DataTypeCode, DataType\n\u001b[1;32m     <a href='file:///media/pc/data/4tb/lxw/study/tvm/python/tvm/__init__.py?line=28'>29</a>\u001b[0m \u001b[39mfrom\u001b[39;00m \u001b[39m.\u001b[39;00m\u001b[39m_ffi\u001b[39;00m \u001b[39mimport\u001b[39;00m register_object, register_func, register_extension, get_global_func\n",
      "File \u001b[0;32m/media/pc/data/4tb/lxw/study/tvm/python/tvm/_ffi/__init__.py:28\u001b[0m, in \u001b[0;36m<module>\u001b[0;34m\u001b[0m\n\u001b[1;32m     <a href='file:///media/pc/data/4tb/lxw/study/tvm/python/tvm/_ffi/__init__.py?line=16'>17</a>\u001b[0m \u001b[39m\"\"\"C interfacing code.\u001b[39;00m\n\u001b[1;32m     <a href='file:///media/pc/data/4tb/lxw/study/tvm/python/tvm/_ffi/__init__.py?line=17'>18</a>\u001b[0m \n\u001b[1;32m     <a href='file:///media/pc/data/4tb/lxw/study/tvm/python/tvm/_ffi/__init__.py?line=18'>19</a>\u001b[0m \u001b[39mThis namespace contains everything that interacts with C code.\u001b[39;00m\n\u001b[0;32m   (...)\u001b[0m\n\u001b[1;32m     <a href='file:///media/pc/data/4tb/lxw/study/tvm/python/tvm/_ffi/__init__.py?line=24'>25</a>\u001b[0m \u001b[39mand have a ctypes fallback implementation.\u001b[39;00m\n\u001b[1;32m     <a href='file:///media/pc/data/4tb/lxw/study/tvm/python/tvm/_ffi/__init__.py?line=25'>26</a>\u001b[0m \u001b[39m\"\"\"\u001b[39;00m\n\u001b[1;32m     <a href='file:///media/pc/data/4tb/lxw/study/tvm/python/tvm/_ffi/__init__.py?line=26'>27</a>\u001b[0m \u001b[39mfrom\u001b[39;00m \u001b[39m.\u001b[39;00m \u001b[39mimport\u001b[39;00m _pyversion\n\u001b[0;32m---> <a href='file:///media/pc/data/4tb/lxw/study/tvm/python/tvm/_ffi/__init__.py?line=27'>28</a>\u001b[0m \u001b[39mfrom\u001b[39;00m \u001b[39m.\u001b[39;00m\u001b[39mbase\u001b[39;00m \u001b[39mimport\u001b[39;00m register_error\n\u001b[1;32m     <a href='file:///media/pc/data/4tb/lxw/study/tvm/python/tvm/_ffi/__init__.py?line=28'>29</a>\u001b[0m \u001b[39mfrom\u001b[39;00m \u001b[39m.\u001b[39;00m\u001b[39mregistry\u001b[39;00m \u001b[39mimport\u001b[39;00m register_object, register_func, register_extension\n\u001b[1;32m     <a href='file:///media/pc/data/4tb/lxw/study/tvm/python/tvm/_ffi/__init__.py?line=29'>30</a>\u001b[0m \u001b[39mfrom\u001b[39;00m \u001b[39m.\u001b[39;00m\u001b[39mregistry\u001b[39;00m \u001b[39mimport\u001b[39;00m _init_api, get_global_func\n",
      "File \u001b[0;32m/media/pc/data/4tb/lxw/study/tvm/python/tvm/_ffi/base.py:71\u001b[0m, in \u001b[0;36m<module>\u001b[0;34m\u001b[0m\n\u001b[1;32m     <a href='file:///media/pc/data/4tb/lxw/study/tvm/python/tvm/_ffi/base.py?line=68'>69</a>\u001b[0m __version__ \u001b[39m=\u001b[39m libinfo\u001b[39m.\u001b[39m__version__\n\u001b[1;32m     <a href='file:///media/pc/data/4tb/lxw/study/tvm/python/tvm/_ffi/base.py?line=69'>70</a>\u001b[0m \u001b[39m# library instance\u001b[39;00m\n\u001b[0;32m---> <a href='file:///media/pc/data/4tb/lxw/study/tvm/python/tvm/_ffi/base.py?line=70'>71</a>\u001b[0m _LIB, _LIB_NAME \u001b[39m=\u001b[39m _load_lib()\n\u001b[1;32m     <a href='file:///media/pc/data/4tb/lxw/study/tvm/python/tvm/_ffi/base.py?line=72'>73</a>\u001b[0m \u001b[39m# Whether we are runtime only\u001b[39;00m\n\u001b[1;32m     <a href='file:///media/pc/data/4tb/lxw/study/tvm/python/tvm/_ffi/base.py?line=73'>74</a>\u001b[0m _RUNTIME_ONLY \u001b[39m=\u001b[39m \u001b[39m\"\u001b[39m\u001b[39mruntime\u001b[39m\u001b[39m\"\u001b[39m \u001b[39min\u001b[39;00m _LIB_NAME\n",
      "File \u001b[0;32m/media/pc/data/4tb/lxw/study/tvm/python/tvm/_ffi/base.py:51\u001b[0m, in \u001b[0;36m_load_lib\u001b[0;34m()\u001b[0m\n\u001b[1;32m     <a href='file:///media/pc/data/4tb/lxw/study/tvm/python/tvm/_ffi/base.py?line=48'>49</a>\u001b[0m \u001b[39mdef\u001b[39;00m \u001b[39m_load_lib\u001b[39m():\n\u001b[1;32m     <a href='file:///media/pc/data/4tb/lxw/study/tvm/python/tvm/_ffi/base.py?line=49'>50</a>\u001b[0m     \u001b[39m\"\"\"Load libary by searching possible path.\"\"\"\u001b[39;00m\n\u001b[0;32m---> <a href='file:///media/pc/data/4tb/lxw/study/tvm/python/tvm/_ffi/base.py?line=50'>51</a>\u001b[0m     lib_path \u001b[39m=\u001b[39m libinfo\u001b[39m.\u001b[39;49mfind_lib_path()\n\u001b[1;32m     <a href='file:///media/pc/data/4tb/lxw/study/tvm/python/tvm/_ffi/base.py?line=51'>52</a>\u001b[0m     \u001b[39m# The dll search path need to be added explicitly in\u001b[39;00m\n\u001b[1;32m     <a href='file:///media/pc/data/4tb/lxw/study/tvm/python/tvm/_ffi/base.py?line=52'>53</a>\u001b[0m     \u001b[39m# windows after python 3.8\u001b[39;00m\n\u001b[1;32m     <a href='file:///media/pc/data/4tb/lxw/study/tvm/python/tvm/_ffi/base.py?line=53'>54</a>\u001b[0m     \u001b[39mif\u001b[39;00m sys\u001b[39m.\u001b[39mplatform\u001b[39m.\u001b[39mstartswith(\u001b[39m\"\u001b[39m\u001b[39mwin32\u001b[39m\u001b[39m\"\u001b[39m) \u001b[39mand\u001b[39;00m sys\u001b[39m.\u001b[39mversion_info \u001b[39m>\u001b[39m\u001b[39m=\u001b[39m (\u001b[39m3\u001b[39m, \u001b[39m8\u001b[39m):\n",
      "File \u001b[0;32m/media/pc/data/4tb/lxw/study/tvm/python/tvm/_ffi/libinfo.py:146\u001b[0m, in \u001b[0;36mfind_lib_path\u001b[0;34m(name, search_path, optional)\u001b[0m\n\u001b[1;32m    <a href='file:///media/pc/data/4tb/lxw/study/tvm/python/tvm/_ffi/libinfo.py?line=139'>140</a>\u001b[0m     \u001b[39mif\u001b[39;00m \u001b[39mnot\u001b[39;00m optional:\n\u001b[1;32m    <a href='file:///media/pc/data/4tb/lxw/study/tvm/python/tvm/_ffi/libinfo.py?line=140'>141</a>\u001b[0m         message \u001b[39m=\u001b[39m (\n\u001b[1;32m    <a href='file:///media/pc/data/4tb/lxw/study/tvm/python/tvm/_ffi/libinfo.py?line=141'>142</a>\u001b[0m             \u001b[39mf\u001b[39m\u001b[39m\"\u001b[39m\u001b[39mCannot find libraries: \u001b[39m\u001b[39m{\u001b[39;00mname\u001b[39m}\u001b[39;00m\u001b[39m\\n\u001b[39;00m\u001b[39m\"\u001b[39m\n\u001b[1;32m    <a href='file:///media/pc/data/4tb/lxw/study/tvm/python/tvm/_ffi/libinfo.py?line=142'>143</a>\u001b[0m             \u001b[39m+\u001b[39m \u001b[39m\"\u001b[39m\u001b[39mList of candidates:\u001b[39m\u001b[39m\\n\u001b[39;00m\u001b[39m\"\u001b[39m\n\u001b[1;32m    <a href='file:///media/pc/data/4tb/lxw/study/tvm/python/tvm/_ffi/libinfo.py?line=143'>144</a>\u001b[0m             \u001b[39m+\u001b[39m \u001b[39m\"\u001b[39m\u001b[39m\\n\u001b[39;00m\u001b[39m\"\u001b[39m\u001b[39m.\u001b[39mjoin(lib_dll_path \u001b[39m+\u001b[39m runtime_dll_path)\n\u001b[1;32m    <a href='file:///media/pc/data/4tb/lxw/study/tvm/python/tvm/_ffi/libinfo.py?line=144'>145</a>\u001b[0m         )\n\u001b[0;32m--> <a href='file:///media/pc/data/4tb/lxw/study/tvm/python/tvm/_ffi/libinfo.py?line=145'>146</a>\u001b[0m         \u001b[39mraise\u001b[39;00m \u001b[39mRuntimeError\u001b[39;00m(message)\n\u001b[1;32m    <a href='file:///media/pc/data/4tb/lxw/study/tvm/python/tvm/_ffi/libinfo.py?line=146'>147</a>\u001b[0m     \u001b[39mreturn\u001b[39;00m \u001b[39mNone\u001b[39;00m\n\u001b[1;32m    <a href='file:///media/pc/data/4tb/lxw/study/tvm/python/tvm/_ffi/libinfo.py?line=148'>149</a>\u001b[0m \u001b[39mif\u001b[39;00m use_runtime:\n",
      "\u001b[0;31mRuntimeError\u001b[0m: Cannot find libraries: ['libtvm.so', 'libtvm_runtime.so']\nList of candidates:\n/home/pc/xinet/anaconda3/envs/tvm-test/bin/libtvm.so\n/home/pc/xinet/anaconda3/envs/tvm-test/bin/libtvm.so\n/home/pc/xinet/anaconda3/condabin/libtvm.so\n/home/pc/.vscode-server/bin/e18005f0f1b33c29e81d732535d8c0e47cafb0b5/bin/remote-cli/libtvm.so\n/home/pc/.local/bin/libtvm.so\n/usr/local/sbin/libtvm.so\n/usr/local/bin/libtvm.so\n/usr/sbin/libtvm.so\n/usr/bin/libtvm.so\n/usr/sbin/libtvm.so\n/usr/bin/libtvm.so\n/usr/games/libtvm.so\n/usr/local/games/libtvm.so\n/snap/bin/libtvm.so\n/media/pc/data/4tb/lxw/study/tvm/python/tvm/libtvm.so\n/media/pc/data/4tb/lxw/study/tvm/build/libtvm.so\n/media/pc/data/4tb/lxw/study/libtvm.so\n/home/pc/xinet/anaconda3/envs/tvm-test/bin/libtvm_runtime.so\n/home/pc/xinet/anaconda3/envs/tvm-test/bin/libtvm_runtime.so\n/home/pc/xinet/anaconda3/condabin/libtvm_runtime.so\n/home/pc/.vscode-server/bin/e18005f0f1b33c29e81d732535d8c0e47cafb0b5/bin/remote-cli/libtvm_runtime.so\n/home/pc/.local/bin/libtvm_runtime.so\n/usr/local/sbin/libtvm_runtime.so\n/usr/local/bin/libtvm_runtime.so\n/usr/sbin/libtvm_runtime.so\n/usr/bin/libtvm_runtime.so\n/usr/sbin/libtvm_runtime.so\n/usr/bin/libtvm_runtime.so\n/usr/games/libtvm_runtime.so\n/usr/local/games/libtvm_runtime.so\n/snap/bin/libtvm_runtime.so\n/media/pc/data/4tb/lxw/study/tvm/python/tvm/libtvm_runtime.so\n/media/pc/data/4tb/lxw/study/tvm/build/libtvm_runtime.so\n/media/pc/data/4tb/lxw/study/libtvm_runtime.so"
     ]
    }
   ],
   "source": [
    "from tvm_env import tvm"
   ]
  },
  {
   "cell_type": "code",
   "execution_count": null,
   "metadata": {},
   "outputs": [],
   "source": [
    "from PIL import Image\n",
    "\n",
    "import numpy as np\n",
    "\n",
    "import torch\n",
    "from torchvision.models.quantization import mobilenet as qmobilenet\n",
    "\n",
    "import tvm\n",
    "from tvm import relay\n",
    "from tvm.contrib.download import download_testdata"
   ]
  },
  {
   "cell_type": "code",
   "execution_count": null,
   "metadata": {},
   "outputs": [],
   "source": []
  }
 ],
 "metadata": {
  "interpreter": {
   "hash": "6ee5142ba8a2589df39b0df03e82f50c3ae535c49aaf7d83abad1a0d572c7e37"
  },
  "kernelspec": {
   "display_name": "Python 3.10.4 ('tvm-test')",
   "language": "python",
   "name": "python3"
  },
  "language_info": {
   "codemirror_mode": {
    "name": "ipython",
    "version": 3
   },
   "file_extension": ".py",
   "mimetype": "text/x-python",
   "name": "python",
   "nbconvert_exporter": "python",
   "pygments_lexer": "ipython3",
   "version": "3.10.4"
  },
  "orig_nbformat": 4
 },
 "nbformat": 4,
 "nbformat_minor": 2
}
